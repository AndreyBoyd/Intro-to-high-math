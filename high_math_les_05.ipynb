{
 "cells": [
  {
   "cell_type": "markdown",
   "id": "c4fc668f",
   "metadata": {},
   "source": [
    "## Практические задания к уроку 5\n",
    "### Тема “Элементы теории вероятностей”\n",
    "\n",
    "#### 1. Напишите код, моделирующий выпадение поля в рулетке (с учетом поля зеро)."
   ]
  },
  {
   "cell_type": "code",
   "execution_count": 1,
   "id": "ef807f7d",
   "metadata": {},
   "outputs": [],
   "source": [
    "import random\n",
    "import numpy as np\n",
    "import matplotlib.pyplot as plt\n",
    "import pandas as pd\n",
    "import itertools\n",
    "\n",
    "from math import factorial as fact"
   ]
  },
  {
   "cell_type": "code",
   "execution_count": 2,
   "id": "65257cdc",
   "metadata": {},
   "outputs": [
    {
     "name": "stdout",
     "output_type": "stream",
     "text": [
      "Вращение 1: 4\n",
      "Вращение 2: 6\n",
      "Вращение 3: 12\n",
      "Вращение 4: 7\n",
      "Вращение 5: 34\n",
      "Вращение 6: 1\n",
      "Вращение 7: 6\n"
     ]
    }
   ],
   "source": [
    "n=7\n",
    "def roulette():\n",
    "    for i in range(n):\n",
    "        print(f\"Вращение {i+1}: {random.randint(0, 36)}\")\n",
    "roulette()"
   ]
  },
  {
   "cell_type": "markdown",
   "id": "35cf9b26",
   "metadata": {},
   "source": [
    "#### 2.1. Напишите код, проверяющий любую из теорем сложения или умножения вероятности на примере рулетки или подбрасывания монетки."
   ]
  },
  {
   "cell_type": "markdown",
   "id": "c55e2e55",
   "metadata": {},
   "source": [
    "Проверим теорему умножения вероятностей на примере подбрасывания монетки.\n",
    "\n",
    "\n",
    "Вероятность выпадения одной и той же стороны монеты подряд равна P(AB) = P(A) * P(B) = 0.5 * 0.5 = 0.25"
   ]
  },
  {
   "cell_type": "code",
   "execution_count": 3,
   "id": "eef70984",
   "metadata": {},
   "outputs": [],
   "source": [
    "def flip():\n",
    "    x = np.random.uniform(0, 10)\n",
    "    if x < 5:\n",
    "        return 1\n",
    "    else:\n",
    "        return 0"
   ]
  },
  {
   "cell_type": "code",
   "execution_count": 4,
   "id": "7330e21c",
   "metadata": {},
   "outputs": [
    {
     "name": "stdout",
     "output_type": "stream",
     "text": [
      "Расчетная вероятность: 0.25 \n",
      "Фактическая вероятность 0.24962 при количестве подбрасываний 100000\n"
     ]
    }
   ],
   "source": [
    "flip_num = 100000 # количество подбрасываний\n",
    "count = 0\n",
    "\n",
    "for i in range(flip_num):\n",
    "    coin1 = flip()\n",
    "    coin2 = flip()\n",
    "    if coin1 == 1 and coin2 == 1:\n",
    "        count += 1\n",
    "\n",
    "print(f'Расчетная вероятность: 0.25 ')\n",
    "print(f'Фактическая вероятность {count/flip_num} при количестве подбрасываний {flip_num}')"
   ]
  },
  {
   "cell_type": "markdown",
   "id": "5d4a6b8a",
   "metadata": {},
   "source": [
    "#### 2.2. Сгенерируйте десять выборок случайных чисел х0, …, х9.и постройте гистограмму распределения случайной суммы +х0+ …+ х 9."
   ]
  },
  {
   "cell_type": "code",
   "execution_count": 5,
   "id": "e3e5cf81",
   "metadata": {},
   "outputs": [
    {
     "data": {
      "image/png": "[encoded data removed]",
      "text/plain": [
       "<Figure size 432x288 with 1 Axes>"
      ]
     },
     "metadata": {
      "needs_background": "light"
     },
     "output_type": "display_data"
    }
   ],
   "source": [
    "x = np.array([np.random.rand(10) for i in range(100)])\n",
    "y = list(map(sum, x))\n",
    "plt.hist(y, bins=10)\n",
    "plt.xlabel(\"x\")\n",
    "plt.ylabel(\"y\")\n",
    "plt.title(\"Гистограмма распределения случайной суммы\")\n",
    "plt.show()"
   ]
  },
  {
   "cell_type": "markdown",
   "id": "5324a411",
   "metadata": {},
   "source": [
    "#### 3.1. Дополните код Монте-Карло последовательности независимых испытаний расчетом соответствующих вероятностей (через биномиальное распределение) и сравните результаты."
   ]
  },
  {
   "cell_type": "code",
   "execution_count": 6,
   "id": "322a5d8b",
   "metadata": {},
   "outputs": [
    {
     "name": "stdout",
     "output_type": "stream",
     "text": [
      "2 успешных событий произошло 37419 раз из 100000 испытаний\n",
      "Вероятность 2 успешных событий = 0.37419\n"
     ]
    }
   ],
   "source": [
    "def monte(turns, n=2, k=1):\n",
    "    m = np.random.randint(0, 2, size=(n, turns))\n",
    "    m_sum = np.isin(np.sum(m, axis=0), k).sum()\n",
    "    print(f'{k} успешных событий произошло {m_sum} раз из {turns} испытаний')\n",
    "    print(f'Вероятность {k} успешных событий = {m_sum/turns}')\n",
    "\n",
    "monte(turns=100000, n=4, k=2)"
   ]
  },
  {
   "cell_type": "markdown",
   "id": "5326bc43",
   "metadata": {},
   "source": [
    "Сравним:\n",
    "$P_{n}(k)=C\\binom{k}{n}\\frac{1}{2^n}=\\frac{4!}{2!(4-2)!}*\\frac{1}{2^{4}}=\\frac{3}{8}=0.375$\n",
    "\n",
    "Вывод: значения практически равны"
   ]
  },
  {
   "cell_type": "markdown",
   "id": "8db02522",
   "metadata": {},
   "source": [
    "#### 3.2. Повторите расчеты биномиальных коэффициентов и вероятностей k успехов в последовательности из n независимых испытаний, взяв другие значения n и k."
   ]
  },
  {
   "cell_type": "code",
   "execution_count": 7,
   "id": "619d41d5",
   "metadata": {},
   "outputs": [
    {
     "name": "stdout",
     "output_type": "stream",
     "text": [
      "3 успешных событий произошло 31247 раз из 100000 испытаний\n",
      "Вероятность 3 успешных событий = 0.31247\n"
     ]
    }
   ],
   "source": [
    "monte(turns=100000, n=5, k=3)"
   ]
  },
  {
   "cell_type": "markdown",
   "id": "46c3d1f5",
   "metadata": {},
   "source": [
    "Сравним:\n",
    "$P_{n}(k)=C\\binom{k}{n}\\frac{1}{2^n}=\\frac{5!}{3!(5-3)!}*\\frac{1}{2^{5}}=\\frac{10}{32}=0.3125$\n",
    "\n",
    "Вывод: значения практически равны"
   ]
  },
  {
   "cell_type": "markdown",
   "id": "d901fcb8",
   "metadata": {},
   "source": [
    "#### 4.1. (не обязательно, но желательно) Из урока по комбинаторике повторите расчеты, сгенерировав возможные варианты перестановок для других значений n и k"
   ]
  },
  {
   "cell_type": "markdown",
   "id": "1baec837",
   "metadata": {},
   "source": [
    "Для наглядности возьмём k=3, n=2 (на уроке было n=2, k=4) и поспотрим возможные варианты."
   ]
  },
  {
   "cell_type": "code",
   "execution_count": 8,
   "id": "70c49725",
   "metadata": {},
   "outputs": [
    {
     "name": "stdout",
     "output_type": "stream",
     "text": [
      "01\n",
      "02\n",
      "10\n",
      "12\n",
      "20\n",
      "21\n"
     ]
    }
   ],
   "source": [
    "# без повторений (без 00, 11, 22)\n",
    "for p in itertools.permutations(\"012\", 2):\n",
    "    print(''.join(p))"
   ]
  },
  {
   "cell_type": "code",
   "execution_count": 9,
   "id": "613d8639",
   "metadata": {},
   "outputs": [
    {
     "name": "stdout",
     "output_type": "stream",
     "text": [
      "00\n",
      "01\n",
      "02\n",
      "10\n",
      "11\n",
      "12\n",
      "20\n",
      "21\n",
      "22\n"
     ]
    }
   ],
   "source": [
    "# все возможные вариации\n",
    "for p in itertools.product(\"012\", repeat=2):\n",
    "    print(''.join(p))"
   ]
  },
  {
   "cell_type": "code",
   "execution_count": 10,
   "id": "649bc400",
   "metadata": {},
   "outputs": [
    {
     "name": "stdout",
     "output_type": "stream",
     "text": [
      "01\n",
      "02\n",
      "12\n"
     ]
    }
   ],
   "source": [
    "# сочетания\n",
    "for i in itertools.combinations(\"012\", 2):\n",
    "    print(''.join(i))"
   ]
  },
  {
   "cell_type": "markdown",
   "id": "256f87c5",
   "metadata": {},
   "source": [
    "#### 5.1. (не обязательно) Дополните код расчетом коэффициента корреляции x и y по формуле"
   ]
  },
  {
   "cell_type": "code",
   "execution_count": 11,
   "id": "9d18c626",
   "metadata": {},
   "outputs": [
    {
     "name": "stdout",
     "output_type": "stream",
     "text": [
      "0.6779388741487824 0.15889906192766184\n",
      "0.6779388741487818 0.15889906192766215\n",
      "Коэффициент корреляции: 0.9168425096044097\n"
     ]
    },
    {
     "data": {
      "image/png": "[encoded data removed]",
      "text/plain": [
       "<Figure size 432x288 with 1 Axes>"
      ]
     },
     "metadata": {
      "needs_background": "light"
     },
     "output_type": "display_data"
    }
   ],
   "source": [
    "n = 100\n",
    "r = 0.7\n",
    "\n",
    "x = np.random.rand(n)\n",
    "y = r * x + (1 - r)*np.random.rand(n)\n",
    "\n",
    "plt.plot(x, y, 'o')\n",
    "plt.xlabel('X')\n",
    "plt.ylabel('Y')\n",
    "plt.grid()\n",
    "\n",
    "a = (np.sum(x) * np.sum(y) - n*np.sum(x*y)) / (np.sum(x)*np.sum(x) - n*np.sum(x**2))\n",
    "b = (np.sum(y) - a*np.sum(x)) / n\n",
    "\n",
    "A = np.vstack([x, np.ones(len(x))]).T\n",
    "a1, b1 = np.linalg.lstsq(A, y, rcond=-1)[0]\n",
    "\n",
    "print(a, b)\n",
    "print(a1, b1)\n",
    "\n",
    "c = np.corrcoef(x, y)\n",
    "print(f'Коэффициент корреляции: {c[1,0]}')\n",
    "\n",
    "plt.plot([0, 1], [b, a+b])\n",
    "plt.show()"
   ]
  },
  {
   "cell_type": "code",
   "execution_count": 12,
   "id": "078fe2ee",
   "metadata": {},
   "outputs": [
    {
     "data": {
      "text/plain": [
       "0.9168425096044099"
      ]
     },
     "execution_count": 12,
     "metadata": {},
     "output_type": "execute_result"
    }
   ],
   "source": [
    "# проверим правильность работы np.corrcoef\n",
    "xm = np.sum(x) / n\n",
    "ym = np.sum(y) / n\n",
    "np.sum( (x - xm)*(y - ym) ) / np.sqrt( np.sum((x - xm)**2) * np.sum((y - ym)**2) )"
   ]
  },
  {
   "cell_type": "code",
   "execution_count": null,
   "id": "fecfbe9a",
   "metadata": {},
   "outputs": [],
   "source": []
  }
 ],
 "metadata": {
  "kernelspec": {
   "display_name": "Python 3 (ipykernel)",
   "language": "python",
   "name": "python3"
  },
  "language_info": {
   "codemirror_mode": {
    "name": "ipython",
    "version": 3
   },
   "file_extension": ".py",
   "mimetype": "text/x-python",
   "name": "python",
   "nbconvert_exporter": "python",
   "pygments_lexer": "ipython3",
   "version": "3.8.5"
  }
 },
 "nbformat": 4,
 "nbformat_minor": 5
}
